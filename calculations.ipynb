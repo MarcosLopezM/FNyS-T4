{
 "cells": [
  {
   "cell_type": "markdown",
   "metadata": {},
   "source": [
    "# Cálculos necesarios"
   ]
  },
  {
   "cell_type": "markdown",
   "metadata": {},
   "source": [
    "## Radio necesario para un $\\pi^{+}$  a $10$ MeV"
   ]
  },
  {
   "cell_type": "code",
   "execution_count": 22,
   "metadata": {},
   "outputs": [
    {
     "data": {
      "text/plain": [
       ":radius"
      ]
     },
     "execution_count": 22,
     "metadata": {},
     "output_type": "execute_result"
    }
   ],
   "source": [
    "def radius(max_energy, mass, charge, magnetic_field)\n",
    "  Math.sqrt(2 * max_energy * mass) / (charge * magnetic_field)\n",
    "end\n"
   ]
  },
  {
   "cell_type": "code",
   "execution_count": 23,
   "metadata": {},
   "outputs": [
    {
     "data": {
      "text/plain": [
       ":ev_to_joules"
      ]
     },
     "execution_count": 23,
     "metadata": {},
     "output_type": "execute_result"
    }
   ],
   "source": [
    "def ev_to_joules(ev)\n",
    "  ev * 1.602176e-19\n",
    "end\n"
   ]
  },
  {
   "cell_type": "code",
   "execution_count": 24,
   "metadata": {},
   "outputs": [
    {
     "data": {
      "text/plain": [
       ":evc2_to_joules"
      ]
     },
     "execution_count": 24,
     "metadata": {},
     "output_type": "execute_result"
    }
   ],
   "source": [
    "def evc2_to_joules(ev)\n",
    "  ev * 1.782661e-36\n",
    "end\n"
   ]
  },
  {
   "cell_type": "code",
   "execution_count": 25,
   "metadata": {},
   "outputs": [
    {
     "name": "stdout",
     "output_type": "stream",
     "text": [
      "Max energy: 1.602176e-12\n",
      "Mass of pion: 2.4957254e-28\n"
     ]
    }
   ],
   "source": [
    "max_energy = ev_to_joules(10e6)\n",
    "mass_pion = evc2_to_joules(140e6)\n",
    "magnetic_field = 2 # Tesla\n",
    "charge = 1.602176e-19 # Coulombs\n",
    "\n",
    "puts \"Max energy: #{max_energy}\"\n",
    "puts \"Mass of pion: #{mass_pion}\"\n"
   ]
  },
  {
   "cell_type": "code",
   "execution_count": 26,
   "metadata": {},
   "outputs": [
    {
     "name": "stdout",
     "output_type": "stream",
     "text": [
      "El radio necesario es R = 0.088253 m\n"
     ]
    }
   ],
   "source": [
    "puts \"El radio necesario es R = #{'%.6f' % radius(max_energy, mass_pion, charge, magnetic_field)} m\""
   ]
  },
  {
   "cell_type": "markdown",
   "metadata": {},
   "source": [
    "## Máxima profundidad que alcanza la cascada electromagnética"
   ]
  },
  {
   "cell_type": "code",
   "execution_count": 1,
   "metadata": {},
   "outputs": [
    {
     "name": "stdout",
     "output_type": "stream",
     "text": [
      "E_c = 97.56\n"
     ]
    }
   ],
   "source": [
    "# critical_energy_600 = 600 / 7.0\n",
    "critical_energy_800 = 800 / (7 + 1.2)\n",
    "initial_energy = 2e4\n",
    "nitrogen_density = 1.16528e-3\n",
    "\n",
    "# puts \"E_c = #{'%.2f' % critical_energy_600}\"\n",
    "puts \"E_c = #{'%.2f' % critical_energy_800}\"\n"
   ]
  },
  {
   "cell_type": "code",
   "execution_count": 18,
   "metadata": {},
   "outputs": [
    {
     "name": "stdout",
     "output_type": "stream",
     "text": [
      "Longitud de radiación X_0 = 32795.49246262921\n"
     ]
    }
   ],
   "source": [
    "# Longitud de radiación\n",
    "\n",
    "def radiation_length(nucleons, atomic_number)\n",
    "  (716.4 * nucleons) / (atomic_number * (atomic_number + 1) * Math.log(287 / Math.sqrt(atomic_number)))\n",
    "end\n",
    "\n",
    "radiation_length_nitrogen = radiation_length(14, 7) / nitrogen_density\n",
    "\n",
    "puts \"Longitud de radiación X_0 = #{radiation_length_nitrogen}\"\n"
   ]
  },
  {
   "cell_type": "code",
   "execution_count": 19,
   "metadata": {},
   "outputs": [
    {
     "name": "stdout",
     "output_type": "stream",
     "text": [
      "Profundidad máxima para fórmula con 800 MeV. t_máx = 7.679480099505446\n"
     ]
    }
   ],
   "source": [
    "t_max_800 = Math.log(initial_energy / critical_energy_800) / Math.log(2)\n",
    "\n",
    "puts \"Profundidad máxima para fórmula con 800 MeV. t_máx = #{t_max_800}\""
   ]
  },
  {
   "cell_type": "code",
   "execution_count": 22,
   "metadata": {},
   "outputs": [
    {
     "name": "stdout",
     "output_type": "stream",
     "text": [
      "T_max = 251852.3317 para 800 MeV.\n"
     ]
    }
   ],
   "source": [
    "puts \"T_max = #{'%.4f' % (t_max_800 * radiation_length_nitrogen)} para 800 MeV.\""
   ]
  },
  {
   "cell_type": "markdown",
   "metadata": {},
   "source": [
    "## Energía mínima para acelerar núcleos de Pb"
   ]
  },
  {
   "cell_type": "code",
   "execution_count": 1,
   "metadata": {},
   "outputs": [
    {
     "data": {
      "text/plain": [
       "179999.99999999997"
      ]
     },
     "execution_count": 1,
     "metadata": {},
     "output_type": "execute_result"
    }
   ],
   "source": [
    "pb_mass = 193729.025 # MeV\n",
    "compton_wavelength = 197.3 / pb_mass # fm\n",
    "pb_radius = 180e-12 / 1e-15 # fm"
   ]
  },
  {
   "cell_type": "code",
   "execution_count": 2,
   "metadata": {},
   "outputs": [
    {
     "data": {
      "text/plain": [
       ":min_energy"
      ]
     },
     "execution_count": 2,
     "metadata": {},
     "output_type": "execute_result"
    }
   ],
   "source": [
    "def min_energy(radius, compton_wavelength)\n",
    "  compton_wavelength ** 2 / (2 * radius ** 2)\n",
    "end"
   ]
  },
  {
   "cell_type": "code",
   "execution_count": 3,
   "metadata": {},
   "outputs": [
    {
     "name": "stdout",
     "output_type": "stream",
     "text": [
      "3.1008765152801322e-12\n"
     ]
    }
   ],
   "source": [
    "puts min_energy(pb_radius, compton_wavelength) * pb_mass"
   ]
  }
 ],
 "metadata": {
  "kernelspec": {
   "display_name": "Ruby 3.2.2",
   "language": "ruby",
   "name": "ruby"
  },
  "language_info": {
   "file_extension": ".rb",
   "mimetype": "application/x-ruby",
   "name": "ruby",
   "version": "3.2.2"
  }
 },
 "nbformat": 4,
 "nbformat_minor": 2
}
